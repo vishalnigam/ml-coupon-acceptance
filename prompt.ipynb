{
 "cells": [
  {
   "cell_type": "markdown",
   "metadata": {
    "id": "CcUT6Fon_qRE"
   },
   "source": [
    "### Required Assignment 5.1: Will the Customer Accept the Coupon?\n",
    "\n",
    "**Context**\n",
    "\n",
    "Imagine driving through town and a coupon is delivered to your cell phone for a restaurant near where you are driving. Would you accept that coupon and take a short detour to the restaurant? Would you accept the coupon but use it on a subsequent trip? Would you ignore the coupon entirely? What if the coupon was for a bar instead of a restaurant? What about a coffee house? Would you accept a bar coupon with a minor passenger in the car? What about if it was just you and your partner in the car? Would weather impact the rate of acceptance? What about the time of day?\n",
    "\n",
    "Obviously, proximity to the business is a factor on whether the coupon is delivered to the driver or not, but what are the factors that determine whether a driver accepts the coupon once it is delivered to them? How would you determine whether a driver is likely to accept a coupon?"
   ]
  },
  {
   "cell_type": "markdown",
   "metadata": {
    "id": "1wORvMBJ_qRF"
   },
   "source": [
    "**Deliverables**\n",
    "\n",
    "Your final product should be a brief report that highlights the differences between customers who did and did not accept the coupons.  To explore the data you will utilize your knowledge of plotting, statistical summaries, and visualization using Python. You will publish your findings in a public facing github repository as your first portfolio piece.\n",
    "\n",
    "\n",
    "\n"
   ]
  },
  {
   "cell_type": "markdown",
   "metadata": {
    "id": "pG6_Ym6q_qRG"
   },
   "source": [
    "### Data Description\n",
    "Keep in mind that these values mentioned below are average values.\n",
    "\n",
    "The attributes of this data set include:\n",
    "1. User attributes\n",
    "    -  Gender: male, female\n",
    "    -  Age: below 21, 21 to 25, 26 to 30, etc.\n",
    "    -  Marital Status: single, married partner, unmarried partner, or widowed\n",
    "    -  Number of children: 0, 1, or more than 1\n",
    "    -  Education: high school, bachelors degree, associates degree, or graduate degree\n",
    "    -  Occupation: architecture & engineering, business & financial, etc.\n",
    "    -  Annual income: less than \\\\$12500, \\\\$12500 - \\\\$24999, \\\\$25000 - \\\\$37499, etc.\n",
    "    -  Number of times that he/she goes to a bar: 0, less than 1, 1 to 3, 4 to 8 or greater than 8\n",
    "    -  Number of times that he/she buys takeaway food: 0, less than 1, 1 to 3, 4 to 8 or greater\n",
    "    than 8\n",
    "    -  Number of times that he/she goes to a coffee house: 0, less than 1, 1 to 3, 4 to 8 or\n",
    "    greater than 8\n",
    "    -  Number of times that he/she eats at a restaurant with average expense less than \\\\$20 per\n",
    "    person: 0, less than 1, 1 to 3, 4 to 8 or greater than 8\n",
    "    -  Number of times that he/she goes to a bar: 0, less than 1, 1 to 3, 4 to 8 or greater than 8\n",
    "    \n",
    "\n",
    "2. Contextual attributes\n",
    "    - Driving destination: home, work, or no urgent destination\n",
    "    - Location of user, coupon and destination: we provide a map to show the geographical\n",
    "    location of the user, destination, and the venue, and we mark the distance between each\n",
    "    two places with time of driving. The user can see whether the venue is in the same\n",
    "    direction as the destination.\n",
    "    - Weather: sunny, rainy, or snowy\n",
    "    - Temperature: 30F, 55F, or 80F\n",
    "    - Time: 10AM, 2PM, or 6PM\n",
    "    - Passenger: alone, partner, kid(s), or friend(s)\n",
    "\n",
    "\n",
    "3. Coupon attributes\n",
    "    - time before it expires: 2 hours or one day"
   ]
  },
  {
   "cell_type": "code",
   "execution_count": 71,
   "metadata": {
    "id": "dzNoP3o__qRG"
   },
   "outputs": [],
   "source": [
    "import matplotlib.pyplot as plt\n",
    "import seaborn as sns\n",
    "import pandas as pd\n",
    "import numpy as np\n",
    "from pandas.api.types import CategoricalDtype"
   ]
  },
  {
   "cell_type": "markdown",
   "metadata": {
    "id": "Ct8pI1uE_qRG"
   },
   "source": [
    "### Problems\n",
    "\n",
    "Use the prompts below to get started with your data analysis.  \n",
    "\n",
    "1. Read in the `coupons.csv` file.\n",
    "\n",
    "\n"
   ]
  },
  {
   "cell_type": "code",
   "execution_count": 73,
   "metadata": {
    "id": "X0vbffYg_qRH"
   },
   "outputs": [],
   "source": [
    "data = pd.read_csv('data/coupons.csv')\n",
    "#data = org_data.copy()"
   ]
  },
  {
   "cell_type": "code",
   "execution_count": 75,
   "metadata": {
    "id": "TXofQ_DF_qRH",
    "outputId": "2fc96a2c-1112-4b54-f24f-dbb9bc88abfb"
   },
   "outputs": [
    {
     "data": {
      "text/html": [
       "<div>\n",
       "<style scoped>\n",
       "    .dataframe tbody tr th:only-of-type {\n",
       "        vertical-align: middle;\n",
       "    }\n",
       "\n",
       "    .dataframe tbody tr th {\n",
       "        vertical-align: top;\n",
       "    }\n",
       "\n",
       "    .dataframe thead th {\n",
       "        text-align: right;\n",
       "    }\n",
       "</style>\n",
       "<table border=\"1\" class=\"dataframe\">\n",
       "  <thead>\n",
       "    <tr style=\"text-align: right;\">\n",
       "      <th></th>\n",
       "      <th>destination</th>\n",
       "      <th>passanger</th>\n",
       "      <th>weather</th>\n",
       "      <th>temperature</th>\n",
       "      <th>time</th>\n",
       "      <th>coupon</th>\n",
       "      <th>expiration</th>\n",
       "      <th>gender</th>\n",
       "      <th>age</th>\n",
       "      <th>maritalStatus</th>\n",
       "      <th>...</th>\n",
       "      <th>CoffeeHouse</th>\n",
       "      <th>CarryAway</th>\n",
       "      <th>RestaurantLessThan20</th>\n",
       "      <th>Restaurant20To50</th>\n",
       "      <th>toCoupon_GEQ5min</th>\n",
       "      <th>toCoupon_GEQ15min</th>\n",
       "      <th>toCoupon_GEQ25min</th>\n",
       "      <th>direction_same</th>\n",
       "      <th>direction_opp</th>\n",
       "      <th>Y</th>\n",
       "    </tr>\n",
       "  </thead>\n",
       "  <tbody>\n",
       "    <tr>\n",
       "      <th>0</th>\n",
       "      <td>No Urgent Place</td>\n",
       "      <td>Alone</td>\n",
       "      <td>Sunny</td>\n",
       "      <td>55</td>\n",
       "      <td>2PM</td>\n",
       "      <td>Restaurant(&lt;20)</td>\n",
       "      <td>1d</td>\n",
       "      <td>Female</td>\n",
       "      <td>21</td>\n",
       "      <td>Unmarried partner</td>\n",
       "      <td>...</td>\n",
       "      <td>never</td>\n",
       "      <td>NaN</td>\n",
       "      <td>4~8</td>\n",
       "      <td>1~3</td>\n",
       "      <td>1</td>\n",
       "      <td>0</td>\n",
       "      <td>0</td>\n",
       "      <td>0</td>\n",
       "      <td>1</td>\n",
       "      <td>1</td>\n",
       "    </tr>\n",
       "    <tr>\n",
       "      <th>1</th>\n",
       "      <td>No Urgent Place</td>\n",
       "      <td>Friend(s)</td>\n",
       "      <td>Sunny</td>\n",
       "      <td>80</td>\n",
       "      <td>10AM</td>\n",
       "      <td>Coffee House</td>\n",
       "      <td>2h</td>\n",
       "      <td>Female</td>\n",
       "      <td>21</td>\n",
       "      <td>Unmarried partner</td>\n",
       "      <td>...</td>\n",
       "      <td>never</td>\n",
       "      <td>NaN</td>\n",
       "      <td>4~8</td>\n",
       "      <td>1~3</td>\n",
       "      <td>1</td>\n",
       "      <td>0</td>\n",
       "      <td>0</td>\n",
       "      <td>0</td>\n",
       "      <td>1</td>\n",
       "      <td>0</td>\n",
       "    </tr>\n",
       "    <tr>\n",
       "      <th>2</th>\n",
       "      <td>No Urgent Place</td>\n",
       "      <td>Friend(s)</td>\n",
       "      <td>Sunny</td>\n",
       "      <td>80</td>\n",
       "      <td>10AM</td>\n",
       "      <td>Carry out &amp; Take away</td>\n",
       "      <td>2h</td>\n",
       "      <td>Female</td>\n",
       "      <td>21</td>\n",
       "      <td>Unmarried partner</td>\n",
       "      <td>...</td>\n",
       "      <td>never</td>\n",
       "      <td>NaN</td>\n",
       "      <td>4~8</td>\n",
       "      <td>1~3</td>\n",
       "      <td>1</td>\n",
       "      <td>1</td>\n",
       "      <td>0</td>\n",
       "      <td>0</td>\n",
       "      <td>1</td>\n",
       "      <td>1</td>\n",
       "    </tr>\n",
       "    <tr>\n",
       "      <th>3</th>\n",
       "      <td>No Urgent Place</td>\n",
       "      <td>Friend(s)</td>\n",
       "      <td>Sunny</td>\n",
       "      <td>80</td>\n",
       "      <td>2PM</td>\n",
       "      <td>Coffee House</td>\n",
       "      <td>2h</td>\n",
       "      <td>Female</td>\n",
       "      <td>21</td>\n",
       "      <td>Unmarried partner</td>\n",
       "      <td>...</td>\n",
       "      <td>never</td>\n",
       "      <td>NaN</td>\n",
       "      <td>4~8</td>\n",
       "      <td>1~3</td>\n",
       "      <td>1</td>\n",
       "      <td>1</td>\n",
       "      <td>0</td>\n",
       "      <td>0</td>\n",
       "      <td>1</td>\n",
       "      <td>0</td>\n",
       "    </tr>\n",
       "    <tr>\n",
       "      <th>4</th>\n",
       "      <td>No Urgent Place</td>\n",
       "      <td>Friend(s)</td>\n",
       "      <td>Sunny</td>\n",
       "      <td>80</td>\n",
       "      <td>2PM</td>\n",
       "      <td>Coffee House</td>\n",
       "      <td>1d</td>\n",
       "      <td>Female</td>\n",
       "      <td>21</td>\n",
       "      <td>Unmarried partner</td>\n",
       "      <td>...</td>\n",
       "      <td>never</td>\n",
       "      <td>NaN</td>\n",
       "      <td>4~8</td>\n",
       "      <td>1~3</td>\n",
       "      <td>1</td>\n",
       "      <td>1</td>\n",
       "      <td>0</td>\n",
       "      <td>0</td>\n",
       "      <td>1</td>\n",
       "      <td>0</td>\n",
       "    </tr>\n",
       "  </tbody>\n",
       "</table>\n",
       "<p>5 rows × 26 columns</p>\n",
       "</div>"
      ],
      "text/plain": [
       "       destination  passanger weather  temperature  time  \\\n",
       "0  No Urgent Place      Alone   Sunny           55   2PM   \n",
       "1  No Urgent Place  Friend(s)   Sunny           80  10AM   \n",
       "2  No Urgent Place  Friend(s)   Sunny           80  10AM   \n",
       "3  No Urgent Place  Friend(s)   Sunny           80   2PM   \n",
       "4  No Urgent Place  Friend(s)   Sunny           80   2PM   \n",
       "\n",
       "                  coupon expiration  gender age      maritalStatus  ...  \\\n",
       "0        Restaurant(<20)         1d  Female  21  Unmarried partner  ...   \n",
       "1           Coffee House         2h  Female  21  Unmarried partner  ...   \n",
       "2  Carry out & Take away         2h  Female  21  Unmarried partner  ...   \n",
       "3           Coffee House         2h  Female  21  Unmarried partner  ...   \n",
       "4           Coffee House         1d  Female  21  Unmarried partner  ...   \n",
       "\n",
       "   CoffeeHouse CarryAway RestaurantLessThan20 Restaurant20To50  \\\n",
       "0        never       NaN                  4~8              1~3   \n",
       "1        never       NaN                  4~8              1~3   \n",
       "2        never       NaN                  4~8              1~3   \n",
       "3        never       NaN                  4~8              1~3   \n",
       "4        never       NaN                  4~8              1~3   \n",
       "\n",
       "  toCoupon_GEQ5min toCoupon_GEQ15min toCoupon_GEQ25min direction_same  \\\n",
       "0                1                 0                 0              0   \n",
       "1                1                 0                 0              0   \n",
       "2                1                 1                 0              0   \n",
       "3                1                 1                 0              0   \n",
       "4                1                 1                 0              0   \n",
       "\n",
       "  direction_opp  Y  \n",
       "0             1  1  \n",
       "1             1  0  \n",
       "2             1  1  \n",
       "3             1  0  \n",
       "4             1  0  \n",
       "\n",
       "[5 rows x 26 columns]"
      ]
     },
     "execution_count": 75,
     "metadata": {},
     "output_type": "execute_result"
    }
   ],
   "source": [
    "data.head()"
   ]
  },
  {
   "cell_type": "markdown",
   "metadata": {
    "id": "GcDs78ZH_qRH"
   },
   "source": [
    "2. Investigate the dataset for missing or problematic data."
   ]
  },
  {
   "cell_type": "code",
   "execution_count": 77,
   "metadata": {},
   "outputs": [
    {
     "name": "stdout",
     "output_type": "stream",
     "text": [
      "<class 'pandas.core.frame.DataFrame'>\n",
      "RangeIndex: 12684 entries, 0 to 12683\n",
      "Data columns (total 26 columns):\n",
      " #   Column                Non-Null Count  Dtype \n",
      "---  ------                --------------  ----- \n",
      " 0   destination           12684 non-null  object\n",
      " 1   passanger             12684 non-null  object\n",
      " 2   weather               12684 non-null  object\n",
      " 3   temperature           12684 non-null  int64 \n",
      " 4   time                  12684 non-null  object\n",
      " 5   coupon                12684 non-null  object\n",
      " 6   expiration            12684 non-null  object\n",
      " 7   gender                12684 non-null  object\n",
      " 8   age                   12684 non-null  object\n",
      " 9   maritalStatus         12684 non-null  object\n",
      " 10  has_children          12684 non-null  int64 \n",
      " 11  education             12684 non-null  object\n",
      " 12  occupation            12684 non-null  object\n",
      " 13  income                12684 non-null  object\n",
      " 14  car                   108 non-null    object\n",
      " 15  Bar                   12577 non-null  object\n",
      " 16  CoffeeHouse           12467 non-null  object\n",
      " 17  CarryAway             12533 non-null  object\n",
      " 18  RestaurantLessThan20  12554 non-null  object\n",
      " 19  Restaurant20To50      12495 non-null  object\n",
      " 20  toCoupon_GEQ5min      12684 non-null  int64 \n",
      " 21  toCoupon_GEQ15min     12684 non-null  int64 \n",
      " 22  toCoupon_GEQ25min     12684 non-null  int64 \n",
      " 23  direction_same        12684 non-null  int64 \n",
      " 24  direction_opp         12684 non-null  int64 \n",
      " 25  Y                     12684 non-null  int64 \n",
      "dtypes: int64(8), object(18)\n",
      "memory usage: 2.5+ MB\n"
     ]
    }
   ],
   "source": [
    "# Info data\n",
    "data.info()"
   ]
  },
  {
   "cell_type": "code",
   "execution_count": 79,
   "metadata": {},
   "outputs": [
    {
     "data": {
      "text/plain": [
       "destination                 0\n",
       "passanger                   0\n",
       "weather                     0\n",
       "temperature                 0\n",
       "time                        0\n",
       "coupon                      0\n",
       "expiration                  0\n",
       "gender                      0\n",
       "age                         0\n",
       "maritalStatus               0\n",
       "has_children                0\n",
       "education                   0\n",
       "occupation                  0\n",
       "income                      0\n",
       "car                     12576\n",
       "Bar                       107\n",
       "CoffeeHouse               217\n",
       "CarryAway                 151\n",
       "RestaurantLessThan20      130\n",
       "Restaurant20To50          189\n",
       "toCoupon_GEQ5min            0\n",
       "toCoupon_GEQ15min           0\n",
       "toCoupon_GEQ25min           0\n",
       "direction_same              0\n",
       "direction_opp               0\n",
       "Y                           0\n",
       "dtype: int64"
      ]
     },
     "execution_count": 79,
     "metadata": {},
     "output_type": "execute_result"
    }
   ],
   "source": [
    "# Missing value\n",
    "missing_rows = data.isnull().sum()\n",
    "missing_rows"
   ]
  },
  {
   "cell_type": "markdown",
   "metadata": {
    "id": "bSdVSpYB_qRH"
   },
   "source": [
    "3. Decide what to do about your missing data -- drop, replace, other..."
   ]
  },
  {
   "cell_type": "code",
   "execution_count": 81,
   "metadata": {
    "id": "tyvoAC5F_qRI"
   },
   "outputs": [],
   "source": [
    "# Duplicate values\n",
    "data.duplicated().value_counts()\n",
    "# Drop duplicated records\n",
    "data = data.drop_duplicates()"
   ]
  },
  {
   "cell_type": "code",
   "execution_count": 83,
   "metadata": {},
   "outputs": [],
   "source": [
    "# Drop 'Car' column in-place. higher % of data missing which won't contribute to the problem statement \n",
    "# if driver redeem the coupon or not.  \n",
    "data.drop('car', axis=1, inplace=True)\n",
    "\n",
    "#Rest all the data have very small % of missing values and will keep as NaN as seperated category to \n",
    "# avoid lossing other relevant data"
   ]
  },
  {
   "cell_type": "code",
   "execution_count": 85,
   "metadata": {},
   "outputs": [
    {
     "name": "stdout",
     "output_type": "stream",
     "text": [
      "<class 'pandas.core.frame.DataFrame'>\n",
      "Index: 12610 entries, 0 to 12683\n",
      "Data columns (total 25 columns):\n",
      " #   Column                Non-Null Count  Dtype \n",
      "---  ------                --------------  ----- \n",
      " 0   destination           12610 non-null  object\n",
      " 1   passanger             12610 non-null  object\n",
      " 2   weather               12610 non-null  object\n",
      " 3   temperature           12610 non-null  int64 \n",
      " 4   time                  12610 non-null  object\n",
      " 5   coupon                12610 non-null  object\n",
      " 6   expiration            12610 non-null  object\n",
      " 7   gender                12610 non-null  object\n",
      " 8   age                   12610 non-null  object\n",
      " 9   maritalStatus         12610 non-null  object\n",
      " 10  has_children          12610 non-null  int64 \n",
      " 11  education             12610 non-null  object\n",
      " 12  occupation            12610 non-null  object\n",
      " 13  income                12610 non-null  object\n",
      " 14  Bar                   12503 non-null  object\n",
      " 15  CoffeeHouse           12393 non-null  object\n",
      " 16  CarryAway             12460 non-null  object\n",
      " 17  RestaurantLessThan20  12481 non-null  object\n",
      " 18  Restaurant20To50      12421 non-null  object\n",
      " 19  toCoupon_GEQ5min      12610 non-null  int64 \n",
      " 20  toCoupon_GEQ15min     12610 non-null  int64 \n",
      " 21  toCoupon_GEQ25min     12610 non-null  int64 \n",
      " 22  direction_same        12610 non-null  int64 \n",
      " 23  direction_opp         12610 non-null  int64 \n",
      " 24  Y                     12610 non-null  int64 \n",
      "dtypes: int64(8), object(17)\n",
      "memory usage: 2.5+ MB\n"
     ]
    }
   ],
   "source": [
    "data.info()"
   ]
  },
  {
   "cell_type": "code",
   "execution_count": 87,
   "metadata": {},
   "outputs": [
    {
     "name": "stdout",
     "output_type": "stream",
     "text": [
      "Index(['car', 'Bar', 'CoffeeHouse', 'CarryAway', 'RestaurantLessThan20',\n",
      "       'Restaurant20To50'],\n",
      "      dtype='object')\n"
     ]
    }
   ],
   "source": [
    "# Get all the unique values for all the columns with null value \n",
    "missing_rows_columns = missing_rows[missing_rows > 0 ].index\n",
    "print(missing_rows_columns)"
   ]
  },
  {
   "cell_type": "code",
   "execution_count": 89,
   "metadata": {},
   "outputs": [
    {
     "name": "stdout",
     "output_type": "stream",
     "text": [
      "Index(['car', 'Bar', 'CoffeeHouse', 'CarryAway', 'RestaurantLessThan20',\n",
      "       'Restaurant20To50'],\n",
      "      dtype='object')\n"
     ]
    }
   ],
   "source": [
    "# Get all the unique values for all the columns with null value \n",
    "missing_rows_columns = missing_rows[missing_rows > 0 ].index\n",
    "print(missing_rows_columns)"
   ]
  },
  {
   "cell_type": "code",
   "execution_count": 91,
   "metadata": {},
   "outputs": [
    {
     "name": "stdout",
     "output_type": "stream",
     "text": [
      "['21' '46' '26' '31' '41' '50plus' '36' 'below21']\n",
      "['1d' '2h']\n"
     ]
    }
   ],
   "source": [
    "#Get Unique values for all the Object column\n",
    "print(data[\"age\"].unique())\n",
    "print(data[\"expiration\"].unique())"
   ]
  },
  {
   "cell_type": "code",
   "execution_count": 93,
   "metadata": {},
   "outputs": [
    {
     "data": {
      "text/plain": [
       "{'destination': array(['No Urgent Place', 'Home', 'Work'], dtype=object),\n",
       " 'passanger': array(['Alone', 'Friend(s)', 'Kid(s)', 'Partner'], dtype=object),\n",
       " 'weather': array(['Sunny', 'Rainy', 'Snowy'], dtype=object),\n",
       " 'time': array(['2PM', '10AM', '6PM', '7AM', '10PM'], dtype=object),\n",
       " 'coupon': array(['Restaurant(<20)', 'Coffee House', 'Carry out & Take away', 'Bar',\n",
       "        'Restaurant(20-50)'], dtype=object),\n",
       " 'expiration': array(['1d', '2h'], dtype=object),\n",
       " 'gender': array(['Female', 'Male'], dtype=object),\n",
       " 'age': array(['21', '46', '26', '31', '41', '50plus', '36', 'below21'],\n",
       "       dtype=object),\n",
       " 'maritalStatus': array(['Unmarried partner', 'Single', 'Married partner', 'Divorced',\n",
       "        'Widowed'], dtype=object),\n",
       " 'education': array(['Some college - no degree', 'Bachelors degree',\n",
       "        'Associates degree', 'High School Graduate',\n",
       "        'Graduate degree (Masters or Doctorate)', 'Some High School'],\n",
       "       dtype=object),\n",
       " 'occupation': array(['Unemployed', 'Architecture & Engineering', 'Student',\n",
       "        'Education&Training&Library', 'Healthcare Support',\n",
       "        'Healthcare Practitioners & Technical', 'Sales & Related',\n",
       "        'Management', 'Arts Design Entertainment Sports & Media',\n",
       "        'Computer & Mathematical', 'Life Physical Social Science',\n",
       "        'Personal Care & Service', 'Community & Social Services',\n",
       "        'Office & Administrative Support', 'Construction & Extraction',\n",
       "        'Legal', 'Retired', 'Installation Maintenance & Repair',\n",
       "        'Transportation & Material Moving', 'Business & Financial',\n",
       "        'Protective Service', 'Food Preparation & Serving Related',\n",
       "        'Production Occupations',\n",
       "        'Building & Grounds Cleaning & Maintenance',\n",
       "        'Farming Fishing & Forestry'], dtype=object),\n",
       " 'income': array(['$37500 - $49999', '$62500 - $74999', '$12500 - $24999',\n",
       "        '$75000 - $87499', '$50000 - $62499', '$25000 - $37499',\n",
       "        '$100000 or More', '$87500 - $99999', 'Less than $12500'],\n",
       "       dtype=object),\n",
       " 'Bar': array(['never', 'less1', '1~3', 'gt8', nan, '4~8'], dtype=object),\n",
       " 'CoffeeHouse': array(['never', 'less1', '4~8', '1~3', 'gt8', nan], dtype=object),\n",
       " 'CarryAway': array([nan, '4~8', '1~3', 'gt8', 'less1', 'never'], dtype=object),\n",
       " 'RestaurantLessThan20': array(['4~8', '1~3', 'less1', 'gt8', nan, 'never'], dtype=object),\n",
       " 'Restaurant20To50': array(['1~3', 'less1', 'never', 'gt8', '4~8', nan], dtype=object)}"
      ]
     },
     "execution_count": 93,
     "metadata": {},
     "output_type": "execute_result"
    }
   ],
   "source": [
    "#Dictionary of all the unique values corresponding to each object columns\n",
    "object_cols = data.select_dtypes(include='object').columns\n",
    "unique_values = {}\n",
    "for col in object_cols:\n",
    "    unique_values[col] = data[col].unique()\n",
    "unique_values"
   ]
  },
  {
   "cell_type": "code",
   "execution_count": 95,
   "metadata": {},
   "outputs": [],
   "source": [
    "# Ordered categories for column 'time' and replace column with values category code\n",
    "time_ord = ['7AM','10AM','2PM','6PM',  '10PM']\n",
    "data['time'] = data['time'].astype('category').cat.set_categories(time_ord).cat.codes\n",
    "\n",
    "# Ordered categories for column 'expiration' and replace column values with category code\n",
    "expiration_ord = ['2h', '1d']\n",
    "data['expiration'] = data['expiration'].astype('category').cat.set_categories(expiration_ord).cat.codes\n",
    "\n",
    "# Ordered categories for column 'age' and replace column values with category code\n",
    "age_ord = ['below21','21','26','31','36','41','46','50plus']\n",
    "age_cat = data['age'].astype('category')\n",
    "data['age'] = age_cat.cat.set_categories(age_ord).cat.codes\n",
    "\n",
    "# Ordered categories for column 'income'\n",
    "income_ord = ['Less than $12500', '$12500 - $24999', '$25000 - $37499',\n",
    "                 '$37500 - $49999','$50000 - $62499', '$62500 - $74999', \n",
    "                 '$75000 - $87499', '$87500 - $99999', '$100000 or More']\n",
    "data['income'] = data['income'].astype('category').cat.set_categories(income_ord).cat.codes\n",
    "\n",
    "# Ordered categories for visit frequencies\n",
    "visit_ord = ['never', 'less1', '1~3', '4~8','gt8', 'nan']\n",
    "\n",
    "# Ordered categories for bar, coffeehouse, carryaway, restaurants visits\n",
    "bar_cat = data['Bar'].replace(np.NaN, 'nan').astype('category')\n",
    "data['Bar'] = bar_cat.cat.set_categories(visit_ord).cat.codes\n",
    "\n",
    "data['CoffeeHouse'] = data['CoffeeHouse'].replace(np.NaN, 'nan').astype('category') \\\n",
    "                                                                .cat.set_categories(visit_ord).cat.codes\n",
    "data['CarryAway'] = data['CarryAway'].replace(np.NaN, 'nan').astype('category') \\\n",
    "                                                                .cat.set_categories(visit_ord).cat.codes\n",
    "data['RestaurantLessThan20'] = data['RestaurantLessThan20'].replace(np.NaN, 'nan').astype('category') \\\n",
    "                                                                .cat.set_categories(visit_ord).cat.codes \n",
    "data['Restaurant20To50'] = data['Restaurant20To50'].replace(np.NaN, 'nan').astype('category') \\\n",
    "                                                                .cat.set_categories(visit_ord).cat.codes\n",
    "\n",
    "\n",
    "# Rename column names \n",
    "data = data.rename(columns={\n",
    "                        \"RestaurantLessThan20\": \"lt20\",\n",
    "                        \"Restaurant20To50\" : \"b20t50\",\n",
    "                        \"toCoupon_GEQ5min\" : \"close\",\n",
    "                        \"toCoupon_GEQ15min\" : \"moderate\",\n",
    "                        \"toCoupon_GEQ25min\" : \"far\", \n",
    "                        \"direction_same\" : \"in_route\",\n",
    "                        \"direction_opp\" : \"out_of_route\",\n",
    "                        \"Y\": \"redeemed\"\n",
    "                    })"
   ]
  },
  {
   "cell_type": "markdown",
   "metadata": {
    "id": "YE6oJbXd_qRI"
   },
   "source": [
    "4. What proportion of the total observations chose to accept the coupon?\n",
    "\n"
   ]
  },
  {
   "cell_type": "code",
   "execution_count": 97,
   "metadata": {
    "id": "86GGqBTv_qRI"
   },
   "outputs": [
    {
     "name": "stdout",
     "output_type": "stream",
     "text": [
      "% of coupon redeemed 56.756542\n"
     ]
    }
   ],
   "source": [
    "# Number of coupon redeemed\n",
    "coupon_redeemed = data['redeemed'].value_counts().to_dict().get(1)\n",
    "pcnt_coupon_redeemed = coupon_redeemed/len(data) * 100\n",
    "print(f\"% of coupon redeemed {pcnt_coupon_redeemed:2f}\")"
   ]
  },
  {
   "cell_type": "markdown",
   "metadata": {
    "id": "vflz0DoE_qRI"
   },
   "source": [
    "5. Use a bar plot to visualize the `coupon` column."
   ]
  },
  {
   "cell_type": "code",
   "execution_count": 27,
   "metadata": {
    "id": "dHFh3E45_qRI"
   },
   "outputs": [
    {
     "data": {
      "image/png": "[encoded data removed]",
      "text/plain": [
       "<Figure size 640x480 with 1 Axes>"
      ]
     },
     "metadata": {},
     "output_type": "display_data"
    }
   ],
   "source": [
    "barplt = sns.barplot(data['redeemed'].value_counts(), legend='auto')"
   ]
  },
  {
   "cell_type": "markdown",
   "metadata": {
    "id": "Qw4lCyx2_qRI"
   },
   "source": [
    "6. Use a histogram to visualize the temperature column."
   ]
  },
  {
   "cell_type": "code",
   "execution_count": 99,
   "metadata": {
    "id": "Yg9Anv71_qRI"
   },
   "outputs": [
    {
     "data": {
      "text/plain": [
       "<Axes: xlabel='temperature', ylabel='Count'>"
      ]
     },
     "execution_count": 99,
     "metadata": {},
     "output_type": "execute_result"
    },
    {
     "data": {
      "image/png": "[encoded data removed]",
      "text/plain": [
       "<Figure size 640x480 with 1 Axes>"
      ]
     },
     "metadata": {},
     "output_type": "display_data"
    }
   ],
   "source": [
    "sns.histplot(data= data['temperature'])"
   ]
  },
  {
   "cell_type": "markdown",
   "metadata": {
    "id": "FupfgeJk_qRJ"
   },
   "source": [
    "**Investigating the Bar Coupons**\n",
    "\n",
    "Now, we will lead you through an exploration of just the bar related coupons.  \n",
    "\n",
    "1. Create a new `DataFrame` that contains just the bar coupons.\n"
   ]
  },
  {
   "cell_type": "code",
   "execution_count": 101,
   "metadata": {
    "id": "tMBlWuGq_qRJ"
   },
   "outputs": [],
   "source": [
    "total_bar_coupon = data[data['coupon'] == 'Bar']"
   ]
  },
  {
   "cell_type": "markdown",
   "metadata": {
    "id": "8ue6uCqf_qRJ"
   },
   "source": [
    "2. What proportion of bar coupons were accepted?\n"
   ]
  },
  {
   "cell_type": "code",
   "execution_count": 103,
   "metadata": {
    "id": "hSdte8Mi_qRK"
   },
   "outputs": [
    {
     "name": "stdout",
     "output_type": "stream",
     "text": [
      "% of bar coupon accepted 40.995025\n"
     ]
    },
    {
     "data": {
      "image/png": "[encoded data removed]",
      "text/plain": [
       "<Figure size 640x480 with 1 Axes>"
      ]
     },
     "metadata": {},
     "output_type": "display_data"
    }
   ],
   "source": [
    "bar_coupon_accepted = total_bar_coupon[total_bar_coupon['redeemed'] == 1]\n",
    "prnt_bar_coupon_accepted = (len(bar_coupon_accepted)/len(total_bar_coupon)) * 100\n",
    "print(f\"% of bar coupon accepted {prnt_bar_coupon_accepted:2f}\")\n",
    "\n",
    "bar_coupon_acc = pd.Series([len(total_bar_coupon), len(bar_coupon_accepted)], index= [0, 1] )\n",
    "\n",
    "fig, ax = plt.subplots()\n",
    "ax.bar(x= bar_coupon_acc.index, height= bar_coupon_acc.values, \n",
    "               label = ['Total Bar Coupon', 'Coupon Accepted'] , \n",
    "               tick_label = ['Total Bar Coupon','Coupon Accepted'],\n",
    "               color = ['tab:blue', 'tab:orange'] )\n",
    "ax.set_xlabel('Total Bar Coupon vs Accepted Coupon')\n",
    "ax.set_ylabel('Number Of Coupons')\n",
    "ax.set_title('Coupon Acceptance')\n",
    "ax.legend(title='Coupons')\n",
    "\n",
    "for i in range(len(bar_coupon_acc.index)):\n",
    "    plt.text(i, bar_coupon_acc[i], str(bar_coupon_acc[i]), ha='center', va='bottom')\n",
    "\n",
    "plt.show()"
   ]
  },
  {
   "cell_type": "markdown",
   "metadata": {
    "id": "85nA_iEi_qRK"
   },
   "source": [
    "3. Compare the acceptance rate between those who went to a bar 3 or fewer times a month to those who went more.\n"
   ]
  },
  {
   "cell_type": "code",
   "execution_count": 105,
   "metadata": {
    "id": "LBOrN-XM_qRK"
   },
   "outputs": [
    {
     "data": {
      "image/png": "[encoded data removed]",
      "text/plain": [
       "<Figure size 640x480 with 1 Axes>"
      ]
     },
     "metadata": {},
     "output_type": "display_data"
    }
   ],
   "source": [
    "acc_rate_lteq3 = sum(bar_coupon_accepted[(bar_coupon_accepted['Bar'] >= 1) & (bar_coupon_accepted['Bar'] <= 2)]['Bar'].value_counts())\n",
    "acc_rate_gt3 = sum( bar_coupon_accepted[(bar_coupon_accepted['Bar'] >= 3) & (bar_coupon_accepted['Bar'] <= 4) ]['Bar'].value_counts())\n",
    "bar_coupon = pd.Series([acc_rate_lteq3, acc_rate_gt3], index= [0, 1] )\n",
    "\n",
    "fig, ax = plt.subplots()\n",
    "ax.bar(x= bar_coupon.index, height= bar_coupon.values, \n",
    "               label = ['Less Than 3', 'Greater Than 3'] , \n",
    "               tick_label = ['Less Than 3','Greater Than 3'],\n",
    "               color = ['tab:blue', 'tab:orange'] )\n",
    "ax.set_xlabel('Bar Visits')\n",
    "ax.set_ylabel('Coupon Redeemed By Drivers')\n",
    "ax.set_title('Bar Coupon Redeemed')\n",
    "ax.legend(title='Bar Visits')\n",
    "\n",
    "for i in range(len(bar_coupon.index)):\n",
    "    plt.text(i, bar_coupon[i], str(bar_coupon[i]), ha='center', va='bottom')\n",
    "\n",
    "plt.show()"
   ]
  },
  {
   "cell_type": "markdown",
   "metadata": {
    "id": "RBgcQwH4_qRK"
   },
   "source": [
    "4. Compare the acceptance rate between drivers who go to a bar more than once a month and are over the age of 25 to the all others.  Is there a difference?\n"
   ]
  },
  {
   "cell_type": "code",
   "execution_count": 107,
   "metadata": {
    "id": "bf28bbeX_qRK"
   },
   "outputs": [
    {
     "data": {
      "image/png": "[encoded data removed]",
      "text/plain": [
       "<Figure size 640x480 with 1 Axes>"
      ]
     },
     "metadata": {},
     "output_type": "display_data"
    }
   ],
   "source": [
    "acc_rate_gt25 = sum(bar_coupon_accepted[(bar_coupon_accepted['age'] > 1) & (bar_coupon_accepted['age'] <= 7)]['Bar'].value_counts())\n",
    "acc_rate_lt25 = len(bar_coupon_accepted) - acc_rate_gt25\n",
    "bar_coupon_by_age = pd.Series([acc_rate_gt25, acc_rate_lt25], index= [0, 1] )\n",
    "\n",
    "fig, ax = plt.subplots()\n",
    "ax.bar(x= bar_coupon_by_age.index, height= bar_coupon_by_age.values, \n",
    "               label = ['Less Than 25', 'Greater Than 25'] , \n",
    "               tick_label = ['Less Than 25','Greater Than 25'],\n",
    "               color = ['tab:blue', 'tab:orange'] )\n",
    "ax.set_xlabel('Age')\n",
    "ax.set_ylabel('Coupon Redeemed By Drivers')\n",
    "ax.set_title('Bar Coupon Redeemed By Age')\n",
    "ax.legend(title='Bar Visits')\n",
    "for i in range(len(bar_coupon_by_age.index)):\n",
    "    plt.text(i, bar_coupon_by_age[i], str(bar_coupon_by_age[i]), ha='center', va='bottom')\n",
    "\n",
    "plt.show()"
   ]
  },
  {
   "cell_type": "markdown",
   "metadata": {
    "id": "S4RKT4PJ_qRK"
   },
   "source": [
    "5. Use the same process to compare the acceptance rate between drivers who go to bars more than once a month and had passengers that were not a kid and had occupations other than farming, fishing, or forestry.\n"
   ]
  },
  {
   "cell_type": "code",
   "execution_count": 199,
   "metadata": {
    "id": "sENaI2Tg_qRK"
   },
   "outputs": [
    {
     "data": {
      "image/png": "[encoded data removed]",
      "text/plain": [
       "<Figure size 640x480 with 1 Axes>"
      ]
     },
     "metadata": {},
     "output_type": "display_data"
    }
   ],
   "source": [
    "acc_rate_wt_noch = bar_coupon_accepted[(bar_coupon_accepted[\"occupation\"] != 'Farming Fishing & Forestry') &\n",
    "                        (bar_coupon_accepted[\"passanger\"] != 'Kid(s)') &\n",
    "                        ((bar_coupon_accepted[\"Bar\"] > 0) & (bar_coupon_accepted[\"Bar\"] <=4))]\n",
    "\n",
    "acc_rate_wtch = len(bar_coupon_accepted) - acc_rate_wt_noch.shape[0]\n",
    "bar_coupon_wt_child_passanger = pd.Series([acc_rate_wtch, acc_rate_wt_noch.shape[0]], index= [0, 1] )\n",
    "\n",
    "fig, ax = plt.subplots()\n",
    "ax.bar(x= bar_coupon_wt_child_passanger.index, height= bar_coupon_wt_child_passanger.values, \n",
    "               label = ['With Children', 'Without Children'] , \n",
    "               tick_label = ['With Children','Without Children'],\n",
    "               color = ['tab:blue', 'tab:orange'])\n",
    "ax.set_xlabel('Passangers')\n",
    "ax.set_ylabel('Coupon Redeemed By Drivers')\n",
    "ax.set_title('Bar Coupon Redeemed With Children Passenger')\n",
    "ax.legend(title='Bar Visits')\n",
    "\n",
    "for i in range(len(bar_coupon_wt_child_passanger.index)):\n",
    "    plt.text(i, bar_coupon_wt_child_passanger[i], str(bar_coupon_wt_child_passanger[i]), ha='center', va='bottom')\n",
    "\n",
    "plt.show()"
   ]
  },
  {
   "cell_type": "markdown",
   "metadata": {
    "id": "n2LIUTil_qRK"
   },
   "source": [
    "6. Compare the acceptance rates between those drivers who:\n",
    "\n",
    "- go to bars more than once a month, had passengers that were not a kid, and were not widowed *OR*\n",
    "- go to bars more than once a month and are under the age of 30 *OR*\n",
    "- go to cheap restaurants more than 4 times a month and income is less than 50K.\n",
    "\n"
   ]
  },
  {
   "cell_type": "code",
   "execution_count": 201,
   "metadata": {
    "id": "aK_wEzx7_qRK"
   },
   "outputs": [
    {
     "data": {
      "image/png": "[encoded data removed]",
      "text/plain": [
       "<Figure size 640x480 with 1 Axes>"
      ]
     },
     "metadata": {},
     "output_type": "display_data"
    }
   ],
   "source": [
    "acc_rate_wtout_ch = bar_coupon_accepted[(bar_coupon_accepted[\"maritalStatus\"] != 'Widowed')\n",
    "                        & (bar_coupon_accepted[\"has_children\"] != 'Kid(s)') \n",
    "                        & ((bar_coupon_accepted[\"Bar\"] > 0) & (bar_coupon_accepted[\"Bar\"] <=4))]\n",
    "\n",
    "acc_rate_by_age = bar_coupon_accepted[( bar_coupon_accepted[\"age\"] < 2 ) \n",
    "                        & ((bar_coupon_accepted[\"Bar\"] > 0) & (bar_coupon_accepted[\"Bar\"] <= 4))]\n",
    "\n",
    "acc_rate_by_income = bar_coupon_accepted[ ( bar_coupon_accepted[\"income\"] < 4 )  \n",
    "                        & ((bar_coupon_accepted[\"lt20\"] > 0) & (bar_coupon_accepted[\"lt20\"] <= 2))]\n",
    "\n",
    "bar_coupon_wt_passenger_types = pd.Series([acc_rate_wtout_ch.shape[0], acc_rate_by_age.shape[0], acc_rate_by_income.shape[0]],\n",
    "                                                                                                                    index= [0, 1, 2] )\n",
    "fig, ax = plt.subplots()\n",
    "ax.bar(x= bar_coupon_wt_passenger_types.index, height= bar_coupon_wt_passenger_types.values, \n",
    "               label = ['Not Widowed| No Child| Bar Visits > 1', 'Age < 30| Bar Visits > 1', \n",
    "                                                                            'Income < 50,000| Visit Restaurents < 4'] , \n",
    "               tick_label = ['Not Widowed| No Child| Bar Visits > 1','Age < 30| Bar Visits > 1', \n",
    "                                                                            'Income < 50,000| Visit Restaurents < 4'],\n",
    "               color = ['tab:blue', 'tab:orange', 'tab:red'] )\n",
    "ax.set_xlabel('Driver types')\n",
    "ax.set_ylabel('Coupon Redeemed By Drivers')\n",
    "ax.set_title(\"Bar Coupon Redeemed With Drive's Type\")\n",
    "ax.legend(title= \"Driver's Type\")\n",
    "plt.xticks(rotation=45, ha='right')\n",
    "\n",
    "for i in range(len(bar_coupon_wt_passenger_types.index)):\n",
    "    plt.text(i, bar_coupon_wt_passenger_types[i], str(bar_coupon_wt_passenger_types[i]), ha='center', va='bottom')\n",
    "\n",
    "plt.show()\n",
    "\n"
   ]
  },
  {
   "cell_type": "markdown",
   "metadata": {
    "id": "v3fL3QkO_qRK"
   },
   "source": [
    "7.  Based on these observations, what do you hypothesize about drivers who accepted the bar coupons?"
   ]
  },
  {
   "cell_type": "code",
   "execution_count": null,
   "metadata": {
    "id": "Y48naDFh_qRL"
   },
   "outputs": [],
   "source": [
    "1. Only 824 bar coupons has been accepted out of 2010 coupons sent to drivers\n",
    "2. Most of the drivers accepted are the once who visit bars less than 3 times. 507 drivers are onces who visits \n",
    "   bars less than 3 times 'Occational Bar Visitors' and 153 who visit bars more than 3 time which can be categorized \n",
    "   'Frequent Bar Visitor'. Surprisingly, according to the data out of all coupon acceptance 156 drivers are those who \n",
    "   never visit the bar. \n",
    "3. Most of the coupon accpetance are among the population which are Less than 25 years of age drives. Out of 824\n",
    "   accpeted coupons 577 are the once less than age 25 and 247's are greater than age 25. Out of 577's, 59 are the \n",
    "   drivers below the age of 21.\n",
    "4. more than 10% of population redeemed coupons who driver 'alone' with bar visit 'never'\n",
    "5. 627 drives accepted coupons who are driving without kids passangers \n",
    "\n",
    "Observation:\n",
    "1. Occational Bar visitors redeemed more bar coupon than Frequent bar visitors\n",
    "2. Young population age <25 redeemed coupon more than age > 25\n",
    "3. Drivers who never visit bar are likely to accept the coupon\n",
    "4. Drivers without children passangers are more likely to accept the coupon\n",
    "\n",
    "Recommandations :\n",
    "1. The system in-place for distributing the coupons to drive for Bar category should consider age of drivers\n",
    "2. Most of the drivers in the population are driving 'alone' and 'never' visited the bar which could be detrimental\n",
    "   for the drivers. Possibly, coupons with restriction of use could be good option.\n",
    "   "
   ]
  },
  {
   "cell_type": "markdown",
   "metadata": {
    "id": "r4Hu1zOb_qRL"
   },
   "source": [
    "### Independent Investigation\n",
    "\n",
    "Using the bar coupon example as motivation, you are to explore one of the other coupon groups and try to determine the characteristics of passengers who accept the coupons.  "
   ]
  },
  {
   "cell_type": "code",
   "execution_count": 131,
   "metadata": {
    "id": "0c71cQhu_qRL"
   },
   "outputs": [
    {
     "data": {
      "text/plain": [
       "156"
      ]
     },
     "execution_count": 131,
     "metadata": {},
     "output_type": "execute_result"
    }
   ],
   "source": [
    "# Drivers not visited bar once\n",
    "population_never_visited_bar = bar_coupon_accepted[bar_coupon_accepted['Bar'] == 0 ]\n",
    "len(population_never_visited_bar)"
   ]
  },
  {
   "cell_type": "code",
   "execution_count": 173,
   "metadata": {
    "id": "QEsBkvIN_qRL"
   },
   "outputs": [
    {
     "name": "stdout",
     "output_type": "stream",
     "text": [
      "           age  destination\n",
      "passanger                  \n",
      "Alone       94           94\n",
      "Friend(s)   38           38\n",
      "Kid(s)      12           12\n",
      "Partner     12           12\n",
      "     passanger  destination\n",
      "age                        \n",
      "0           26           26\n",
      "1           33           33\n",
      "2           22           22\n",
      "3           24           24\n",
      "4           17           17\n",
      "5            8            8\n",
      "6           10           10\n",
      "7           16           16\n"
     ]
    }
   ],
   "source": [
    "# ages of the drivers who never visited bars\n",
    "df = pd.DataFrame({\n",
    "                    'passanger' : population_never_visited_bar[\"passanger\"], \n",
    "                    'age' : population_never_visited_bar[\"age\"],\n",
    "                    'destination' : population_never_visited_bar[\"destination\"]\n",
    "                })\n",
    "\n",
    "num_by_passangers = df.groupby(\"passanger\").count()\n",
    "num_by_age = df.groupby(\"age\").count()\n",
    "\n",
    "print(num_by_passangers)\n",
    "print(num_by_age)"
   ]
  },
  {
   "cell_type": "code",
   "execution_count": 193,
   "metadata": {
    "id": "fTC2WGE3_qRL"
   },
   "outputs": [
    {
     "data": {
      "text/html": [
       "<div>\n",
       "<style scoped>\n",
       "    .dataframe tbody tr th:only-of-type {\n",
       "        vertical-align: middle;\n",
       "    }\n",
       "\n",
       "    .dataframe tbody tr th {\n",
       "        vertical-align: top;\n",
       "    }\n",
       "\n",
       "    .dataframe thead th {\n",
       "        text-align: right;\n",
       "    }\n",
       "</style>\n",
       "<table border=\"1\" class=\"dataframe\">\n",
       "  <thead>\n",
       "    <tr style=\"text-align: right;\">\n",
       "      <th></th>\n",
       "      <th>destination</th>\n",
       "      <th>passanger</th>\n",
       "      <th>weather</th>\n",
       "      <th>temperature</th>\n",
       "      <th>time</th>\n",
       "      <th>coupon</th>\n",
       "      <th>expiration</th>\n",
       "      <th>gender</th>\n",
       "      <th>age</th>\n",
       "      <th>maritalStatus</th>\n",
       "      <th>...</th>\n",
       "      <th>CoffeeHouse</th>\n",
       "      <th>CarryAway</th>\n",
       "      <th>lt20</th>\n",
       "      <th>b20t50</th>\n",
       "      <th>close</th>\n",
       "      <th>moderate</th>\n",
       "      <th>far</th>\n",
       "      <th>in_route</th>\n",
       "      <th>out_of_route</th>\n",
       "      <th>redeemed</th>\n",
       "    </tr>\n",
       "  </thead>\n",
       "  <tbody>\n",
       "    <tr>\n",
       "      <th>13</th>\n",
       "      <td>Home</td>\n",
       "      <td>Alone</td>\n",
       "      <td>Sunny</td>\n",
       "      <td>55</td>\n",
       "      <td>3</td>\n",
       "      <td>Bar</td>\n",
       "      <td>1</td>\n",
       "      <td>Female</td>\n",
       "      <td>1</td>\n",
       "      <td>Unmarried partner</td>\n",
       "      <td>...</td>\n",
       "      <td>0</td>\n",
       "      <td>5</td>\n",
       "      <td>3</td>\n",
       "      <td>2</td>\n",
       "      <td>1</td>\n",
       "      <td>0</td>\n",
       "      <td>0</td>\n",
       "      <td>1</td>\n",
       "      <td>0</td>\n",
       "      <td>1</td>\n",
       "    </tr>\n",
       "    <tr>\n",
       "      <th>75</th>\n",
       "      <td>No Urgent Place</td>\n",
       "      <td>Kid(s)</td>\n",
       "      <td>Sunny</td>\n",
       "      <td>80</td>\n",
       "      <td>1</td>\n",
       "      <td>Bar</td>\n",
       "      <td>1</td>\n",
       "      <td>Male</td>\n",
       "      <td>6</td>\n",
       "      <td>Married partner</td>\n",
       "      <td>...</td>\n",
       "      <td>2</td>\n",
       "      <td>2</td>\n",
       "      <td>2</td>\n",
       "      <td>1</td>\n",
       "      <td>1</td>\n",
       "      <td>1</td>\n",
       "      <td>0</td>\n",
       "      <td>0</td>\n",
       "      <td>1</td>\n",
       "      <td>1</td>\n",
       "    </tr>\n",
       "    <tr>\n",
       "      <th>79</th>\n",
       "      <td>Home</td>\n",
       "      <td>Alone</td>\n",
       "      <td>Sunny</td>\n",
       "      <td>55</td>\n",
       "      <td>3</td>\n",
       "      <td>Bar</td>\n",
       "      <td>1</td>\n",
       "      <td>Male</td>\n",
       "      <td>6</td>\n",
       "      <td>Married partner</td>\n",
       "      <td>...</td>\n",
       "      <td>2</td>\n",
       "      <td>2</td>\n",
       "      <td>2</td>\n",
       "      <td>1</td>\n",
       "      <td>1</td>\n",
       "      <td>0</td>\n",
       "      <td>0</td>\n",
       "      <td>1</td>\n",
       "      <td>0</td>\n",
       "      <td>1</td>\n",
       "    </tr>\n",
       "    <tr>\n",
       "      <th>83</th>\n",
       "      <td>Work</td>\n",
       "      <td>Alone</td>\n",
       "      <td>Sunny</td>\n",
       "      <td>55</td>\n",
       "      <td>0</td>\n",
       "      <td>Bar</td>\n",
       "      <td>1</td>\n",
       "      <td>Male</td>\n",
       "      <td>6</td>\n",
       "      <td>Married partner</td>\n",
       "      <td>...</td>\n",
       "      <td>2</td>\n",
       "      <td>2</td>\n",
       "      <td>2</td>\n",
       "      <td>1</td>\n",
       "      <td>1</td>\n",
       "      <td>1</td>\n",
       "      <td>1</td>\n",
       "      <td>0</td>\n",
       "      <td>1</td>\n",
       "      <td>1</td>\n",
       "    </tr>\n",
       "    <tr>\n",
       "      <th>189</th>\n",
       "      <td>Work</td>\n",
       "      <td>Alone</td>\n",
       "      <td>Sunny</td>\n",
       "      <td>55</td>\n",
       "      <td>0</td>\n",
       "      <td>Bar</td>\n",
       "      <td>1</td>\n",
       "      <td>Female</td>\n",
       "      <td>2</td>\n",
       "      <td>Single</td>\n",
       "      <td>...</td>\n",
       "      <td>2</td>\n",
       "      <td>3</td>\n",
       "      <td>2</td>\n",
       "      <td>1</td>\n",
       "      <td>1</td>\n",
       "      <td>1</td>\n",
       "      <td>1</td>\n",
       "      <td>0</td>\n",
       "      <td>1</td>\n",
       "      <td>1</td>\n",
       "    </tr>\n",
       "    <tr>\n",
       "      <th>...</th>\n",
       "      <td>...</td>\n",
       "      <td>...</td>\n",
       "      <td>...</td>\n",
       "      <td>...</td>\n",
       "      <td>...</td>\n",
       "      <td>...</td>\n",
       "      <td>...</td>\n",
       "      <td>...</td>\n",
       "      <td>...</td>\n",
       "      <td>...</td>\n",
       "      <td>...</td>\n",
       "      <td>...</td>\n",
       "      <td>...</td>\n",
       "      <td>...</td>\n",
       "      <td>...</td>\n",
       "      <td>...</td>\n",
       "      <td>...</td>\n",
       "      <td>...</td>\n",
       "      <td>...</td>\n",
       "      <td>...</td>\n",
       "      <td>...</td>\n",
       "    </tr>\n",
       "    <tr>\n",
       "      <th>12437</th>\n",
       "      <td>No Urgent Place</td>\n",
       "      <td>Kid(s)</td>\n",
       "      <td>Snowy</td>\n",
       "      <td>30</td>\n",
       "      <td>3</td>\n",
       "      <td>Bar</td>\n",
       "      <td>1</td>\n",
       "      <td>Female</td>\n",
       "      <td>7</td>\n",
       "      <td>Married partner</td>\n",
       "      <td>...</td>\n",
       "      <td>1</td>\n",
       "      <td>2</td>\n",
       "      <td>2</td>\n",
       "      <td>2</td>\n",
       "      <td>1</td>\n",
       "      <td>0</td>\n",
       "      <td>0</td>\n",
       "      <td>0</td>\n",
       "      <td>1</td>\n",
       "      <td>1</td>\n",
       "    </tr>\n",
       "    <tr>\n",
       "      <th>12460</th>\n",
       "      <td>No Urgent Place</td>\n",
       "      <td>Friend(s)</td>\n",
       "      <td>Sunny</td>\n",
       "      <td>55</td>\n",
       "      <td>4</td>\n",
       "      <td>Bar</td>\n",
       "      <td>0</td>\n",
       "      <td>Male</td>\n",
       "      <td>5</td>\n",
       "      <td>Divorced</td>\n",
       "      <td>...</td>\n",
       "      <td>1</td>\n",
       "      <td>1</td>\n",
       "      <td>2</td>\n",
       "      <td>3</td>\n",
       "      <td>1</td>\n",
       "      <td>1</td>\n",
       "      <td>0</td>\n",
       "      <td>0</td>\n",
       "      <td>1</td>\n",
       "      <td>1</td>\n",
       "    </tr>\n",
       "    <tr>\n",
       "      <th>12591</th>\n",
       "      <td>No Urgent Place</td>\n",
       "      <td>Friend(s)</td>\n",
       "      <td>Sunny</td>\n",
       "      <td>80</td>\n",
       "      <td>4</td>\n",
       "      <td>Bar</td>\n",
       "      <td>1</td>\n",
       "      <td>Female</td>\n",
       "      <td>7</td>\n",
       "      <td>Divorced</td>\n",
       "      <td>...</td>\n",
       "      <td>1</td>\n",
       "      <td>2</td>\n",
       "      <td>2</td>\n",
       "      <td>1</td>\n",
       "      <td>1</td>\n",
       "      <td>1</td>\n",
       "      <td>0</td>\n",
       "      <td>0</td>\n",
       "      <td>1</td>\n",
       "      <td>1</td>\n",
       "    </tr>\n",
       "    <tr>\n",
       "      <th>12644</th>\n",
       "      <td>No Urgent Place</td>\n",
       "      <td>Friend(s)</td>\n",
       "      <td>Sunny</td>\n",
       "      <td>55</td>\n",
       "      <td>4</td>\n",
       "      <td>Bar</td>\n",
       "      <td>0</td>\n",
       "      <td>Male</td>\n",
       "      <td>3</td>\n",
       "      <td>Married partner</td>\n",
       "      <td>...</td>\n",
       "      <td>0</td>\n",
       "      <td>3</td>\n",
       "      <td>4</td>\n",
       "      <td>1</td>\n",
       "      <td>1</td>\n",
       "      <td>1</td>\n",
       "      <td>0</td>\n",
       "      <td>0</td>\n",
       "      <td>1</td>\n",
       "      <td>1</td>\n",
       "    </tr>\n",
       "    <tr>\n",
       "      <th>12652</th>\n",
       "      <td>Home</td>\n",
       "      <td>Partner</td>\n",
       "      <td>Sunny</td>\n",
       "      <td>30</td>\n",
       "      <td>4</td>\n",
       "      <td>Bar</td>\n",
       "      <td>0</td>\n",
       "      <td>Male</td>\n",
       "      <td>3</td>\n",
       "      <td>Married partner</td>\n",
       "      <td>...</td>\n",
       "      <td>0</td>\n",
       "      <td>3</td>\n",
       "      <td>4</td>\n",
       "      <td>1</td>\n",
       "      <td>1</td>\n",
       "      <td>1</td>\n",
       "      <td>1</td>\n",
       "      <td>0</td>\n",
       "      <td>1</td>\n",
       "      <td>1</td>\n",
       "    </tr>\n",
       "  </tbody>\n",
       "</table>\n",
       "<p>260 rows × 25 columns</p>\n",
       "</div>"
      ],
      "text/plain": [
       "           destination  passanger weather  temperature  time coupon  \\\n",
       "13                Home      Alone   Sunny           55     3    Bar   \n",
       "75     No Urgent Place     Kid(s)   Sunny           80     1    Bar   \n",
       "79                Home      Alone   Sunny           55     3    Bar   \n",
       "83                Work      Alone   Sunny           55     0    Bar   \n",
       "189               Work      Alone   Sunny           55     0    Bar   \n",
       "...                ...        ...     ...          ...   ...    ...   \n",
       "12437  No Urgent Place     Kid(s)   Snowy           30     3    Bar   \n",
       "12460  No Urgent Place  Friend(s)   Sunny           55     4    Bar   \n",
       "12591  No Urgent Place  Friend(s)   Sunny           80     4    Bar   \n",
       "12644  No Urgent Place  Friend(s)   Sunny           55     4    Bar   \n",
       "12652             Home    Partner   Sunny           30     4    Bar   \n",
       "\n",
       "       expiration  gender  age      maritalStatus  ...  CoffeeHouse CarryAway  \\\n",
       "13              1  Female    1  Unmarried partner  ...            0         5   \n",
       "75              1    Male    6    Married partner  ...            2         2   \n",
       "79              1    Male    6    Married partner  ...            2         2   \n",
       "83              1    Male    6    Married partner  ...            2         2   \n",
       "189             1  Female    2             Single  ...            2         3   \n",
       "...           ...     ...  ...                ...  ...          ...       ...   \n",
       "12437           1  Female    7    Married partner  ...            1         2   \n",
       "12460           0    Male    5           Divorced  ...            1         1   \n",
       "12591           1  Female    7           Divorced  ...            1         2   \n",
       "12644           0    Male    3    Married partner  ...            0         3   \n",
       "12652           0    Male    3    Married partner  ...            0         3   \n",
       "\n",
       "      lt20  b20t50  close  moderate  far  in_route  out_of_route  redeemed  \n",
       "13       3       2      1         0    0         1             0         1  \n",
       "75       2       1      1         1    0         0             1         1  \n",
       "79       2       1      1         0    0         1             0         1  \n",
       "83       2       1      1         1    1         0             1         1  \n",
       "189      2       1      1         1    1         0             1         1  \n",
       "...    ...     ...    ...       ...  ...       ...           ...       ...  \n",
       "12437    2       2      1         0    0         0             1         1  \n",
       "12460    2       3      1         1    0         0             1         1  \n",
       "12591    2       1      1         1    0         0             1         1  \n",
       "12644    4       1      1         1    0         0             1         1  \n",
       "12652    4       1      1         1    1         0             1         1  \n",
       "\n",
       "[260 rows x 25 columns]"
      ]
     },
     "execution_count": 193,
     "metadata": {},
     "output_type": "execute_result"
    }
   ],
   "source": [
    "bar_coupon_accepted[bar_coupon_accepted[\"has_children\"] == 1]"
   ]
  },
  {
   "cell_type": "code",
   "execution_count": 177,
   "metadata": {
    "id": "RrqUWn7d_qRL"
   },
   "outputs": [
    {
     "name": "stdout",
     "output_type": "stream",
     "text": [
      "[1 0]\n"
     ]
    }
   ],
   "source": [
    "print(data['has_children'].unique())"
   ]
  },
  {
   "cell_type": "code",
   "execution_count": null,
   "metadata": {
    "id": "_oykf8YP_qRL"
   },
   "outputs": [],
   "source": []
  }
 ],
 "metadata": {
  "colab": {
   "provenance": []
  },
  "kernelspec": {
   "display_name": "Python [conda env:base] *",
   "language": "python",
   "name": "conda-base-py"
  },
  "language_info": {
   "codemirror_mode": {
    "name": "ipython",
    "version": 3
   },
   "file_extension": ".py",
   "mimetype": "text/x-python",
   "name": "python",
   "nbconvert_exporter": "python",
   "pygments_lexer": "ipython3",
   "version": "3.12.7"
  }
 },
 "nbformat": 4,
 "nbformat_minor": 4
}
